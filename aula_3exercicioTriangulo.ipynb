{
 "cells": [
  {
   "cell_type": "code",
   "execution_count": null,
   "id": "7931546d",
   "metadata": {},
   "outputs": [],
   "source": [
    "import math\n",
    "\n",
    "while True:\n",
    "\n",
    "  QntdCordenada = input(\"digite A se voce quer adicionar 6 cordenadas para tres pontos ou B se voce preferir 8 cordenadas para 4 pontos(A/B)\")\n",
    "  if QntdCordenada.lower().strip() == \"a\":\n",
    "    y1 = int(input(\"digite o ponto y da cordenada 1 :\"))\n",
    "    x1 = int(input(\"digite o ponto x da cordenada 1 :\"))\n",
    "    y2 = int(input(\"digite o ponto y da cordenada 2 :\"))\n",
    "    x2 = int(input(\"digite o ponto x da cordenada 2 :\"))\n",
    "    y3 = int(input(\"digite o ponto y da cordenada 3 :\"))\n",
    "    x3 = int(input(\"digite o ponto x da cordenada 3 :\"))\n",
    "\n",
    "    areaModulo = abs((x1 * (y2 - y3) + x2 * (y3 - y1) + x3 * (y1 - y2))) / 2\n",
    "    if areaModulo == 0:\n",
    "      print(\"isso definitivamente não é um triangulo \")\n",
    "      \n",
    "      \n",
    "\n",
    "    lado1 = math.sqrt((x2 - x1)**2 + (y2 - y1)**2)\n",
    "    lado2 = math.sqrt((x3 - x2)**2 + (y3 - y2)**2)\n",
    "    lado3 = math.sqrt((x1 - x3)**2 + (y1 - y3)**2)\n",
    "\n",
    "    if lado1 == lado2 and lado2 == lado3 and lado3 == lado1:\n",
    "          print(\" este é um triangulo equilatero\")\n",
    "    elif lado1 == lado2 or lado2 == lado3 or lado1 == lado3:\n",
    "          print(\"este é um triagulo isosceles\")\n",
    "    elif lado1 != lado2 and lado2 != lado3 and lado1 != lado3:\n",
    "          print(\" este é um trianulo escaleno\")\n",
    "  \n",
    "  if QntdCordenada.lower().strip() == \"b\":\n",
    "    y1 = int(input(\"digite o ponto y da cordenada 1 :\"))\n",
    "    x1 = int(input(\"digite o ponto x da cordenada 1 :\"))\n",
    "    y2 = int(input(\"digite o ponto y da cordenada 2 :\"))\n",
    "    x2 = int(input(\"digite o ponto x da cordenada 2 :\"))\n",
    "    y3 = int(input(\"digite o ponto y da cordenada 3 :\"))\n",
    "    x3 = int(input(\"digite o ponto x da cordenada 3 :\"))\n",
    "\n",
    "    \n",
    "\n",
    "\n",
    "\n",
    "\n",
    "  \n",
    "\n",
    "    \n",
    "    \n",
    "    "
   ]
  }
 ],
 "metadata": {
  "kernelspec": {
   "display_name": "Python 3",
   "language": "python",
   "name": "python3"
  },
  "language_info": {
   "name": "python",
   "version": "3.13.7"
  }
 },
 "nbformat": 4,
 "nbformat_minor": 5
}
