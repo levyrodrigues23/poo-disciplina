{
  "nbformat": 4,
  "nbformat_minor": 0,
  "metadata": {
    "colab": {
      "provenance": [],
      "authorship_tag": "ABX9TyMQo7qpE5GeAeMifwmlnR82",
      "include_colab_link": true
    },
    "kernelspec": {
      "name": "python3",
      "display_name": "Python 3"
    },
    "language_info": {
      "name": "python"
    }
  },
  "cells": [
    {
      "cell_type": "markdown",
      "metadata": {
        "id": "view-in-github",
        "colab_type": "text"
      },
      "source": [
        "<a href=\"https://colab.research.google.com/github/levyrodrigues23/poo-disciplina/blob/main/aula2exercicios.ipynb\" target=\"_parent\"><img src=\"https://colab.research.google.com/assets/colab-badge.svg\" alt=\"Open In Colab\"/></a>"
      ]
    },
    {
      "cell_type": "code",
      "execution_count": 2,
      "metadata": {
        "colab": {
          "base_uri": "https://localhost:8080/"
        },
        "id": "5NzpBtgrJuoW",
        "outputId": "091beeb6-544c-4a9b-ef5e-dc313f167099"
      },
      "outputs": [
        {
          "output_type": "stream",
          "name": "stdout",
          "text": [
            "-37.6\n"
          ]
        }
      ],
      "source": [
        "x = 512\n",
        "y = 9.2 - (x // 10 - 14 / 5) + 14 * 0.1\n",
        "print(y)"
      ]
    },
    {
      "cell_type": "code",
      "source": [
        "x =10\n",
        "y = -2\n",
        "z = 5\n",
        "w = (x * y > z / 1) or (x / y > z * x and z * y < x)\n",
        "print(w)"
      ],
      "metadata": {
        "colab": {
          "base_uri": "https://localhost:8080/"
        },
        "id": "8dEngl-yMabC",
        "outputId": "6e440584-e854-48b9-ba64-7f49ab6d27a6"
      },
      "execution_count": 9,
      "outputs": [
        {
          "output_type": "stream",
          "name": "stdout",
          "text": [
            "False\n"
          ]
        }
      ]
    },
    {
      "cell_type": "code",
      "source": [
        "numero = int(input(\"entre com um numero: \"))\n",
        "if (numero % 2 == 0):\n",
        "  print(\"o numero é par \")\n",
        "else:\n",
        "  print(\"o numero é impar\")\n"
      ],
      "metadata": {
        "colab": {
          "base_uri": "https://localhost:8080/"
        },
        "id": "QJWu40O8NXW0",
        "outputId": "b974ed1c-0d12-4b3e-b757-1d0fc9ba3089"
      },
      "execution_count": 13,
      "outputs": [
        {
          "output_type": "stream",
          "name": "stdout",
          "text": [
            "entre com um numero: 5\n",
            "o numero é impar\n"
          ]
        }
      ]
    },
    {
      "cell_type": "code",
      "source": [
        "op = input(\"deseja multiplicar ou somar? use S  para somar e M para multiplicar: \")\n",
        "if(op == \"S\"):\n",
        "  num1 = int(input(\"entre com o primeiro numero: \"))\n",
        "  num2 = int(input(\"entre com o segundo numero: \"))\n",
        "  print(num1 + num2)\n",
        "elif(op == \"M\"):\n",
        "  num1 = int(input(\"entre com o primeiro numero: \"))\n",
        "  num2 = int(input(\"entre com o segundo numero: \"))\n",
        "  print(num1 * num2)\n",
        "else:\n",
        "  print(\"opção invalida\")"
      ],
      "metadata": {
        "colab": {
          "base_uri": "https://localhost:8080/"
        },
        "id": "zTl3Uc9NOhVp",
        "outputId": "c0b4e932-5f91-4a93-a734-a8436a114bf2"
      },
      "execution_count": 14,
      "outputs": [
        {
          "output_type": "stream",
          "name": "stdout",
          "text": [
            "deseja multiplicar ou somar? use S  para somar e M para multiplicar: S\n",
            "entre com o primeiro numero: 5\n",
            "entre com o segundo numero: 5\n",
            "10\n"
          ]
        }
      ]
    },
    {
      "cell_type": "code",
      "source": [
        "nome = input(\"digite o nome da pessoa: \")\n",
        "sexo =  input(\"digite o sexo da pessoa: \")\n",
        "if sexo == \"M\":\n",
        "  idade = input('digite a idade da pessoa: ')\n",
        "print(nome, \"tem\", idade, \"anos\")"
      ],
      "metadata": {
        "colab": {
          "base_uri": "https://localhost:8080/"
        },
        "id": "PyBLXbExQRpJ",
        "outputId": "2283474c-6749-4490-8d33-cb855ce9746f"
      },
      "execution_count": 16,
      "outputs": [
        {
          "output_type": "stream",
          "name": "stdout",
          "text": [
            "digite o nome da pessoa: LUIZA\n",
            "digite o sexo da pessoa: F\n",
            "LUIZA tem 18 anos\n"
          ]
        }
      ]
    },
    {
      "cell_type": "code",
      "source": [
        "peso = float(input(\"digite o seu peso: \"))\n",
        "altura = float(input(\"digite a sua altura: \"))\n",
        "imc = peso / (altura * altura)\n",
        "if imc < 18.5:\n",
        "  print(\"abaixo do peso\")\n",
        "elif imc >= 18.6 and imc < 24.9:\n",
        "  print(\"saudável\")\n",
        "elif imc >= 25 and imc < 29.9:\n",
        "  print(\"peso em excesso\")\n",
        "elif imc >= 30 and imc < 34.9:\n",
        "  print(\"obesidade grau 1\")\n",
        "elif imc >= 35 and imc < 39.9:\n",
        "  print(\"obesidade grau 2\")\n",
        "else:\n",
        "  print(\"obesidade grau 3\")"
      ],
      "metadata": {
        "colab": {
          "base_uri": "https://localhost:8080/"
        },
        "id": "OMvguXFJRhbM",
        "outputId": "6e50a14e-a2b5-48c2-c2ec-cf7243ecd953"
      },
      "execution_count": 17,
      "outputs": [
        {
          "output_type": "stream",
          "name": "stdout",
          "text": [
            "digite o seu peso: 71\n",
            "digite a sua altura: 1.82\n",
            "saudável\n"
          ]
        }
      ]
    },
    {
      "cell_type": "code",
      "source": [
        "import math\n",
        "\n",
        "y1 = float(input(\"digite o ponto y da cordenada 1 :\"))\n",
        "x1 = float(input(\"digite o ponto x da cordenada 1 :\"))\n",
        "y2 = float(input(\"digite o ponto y da cordenada 2 :\"))\n",
        "x2 = float(input(\"digite o ponto x da cordenada 2 :\"))\n",
        "y3 = float(input(\"digite o ponto y da cordenada 3 :\"))\n",
        "x3 = float(input(\"digite o ponto x da cordenada 3 :\"))\n",
        "\n",
        "valor1 = math.sqrt((x2 - x1)**2 + (y2 - y1)**2)\n",
        "valor2 = math.sqrt((x3 - x2)**2 + (y3 - y2)**2)\n",
        "valor3 = math.sqrt((x1 - x3)**2 + (y1 - y3)**2)\n",
        "\n",
        "if valor1 == valor2 and valor2 == valor3 and valor3 == valor1:\n",
        "  print(\"equilatero\")\n",
        "elif valor1 == valor2 or valor2 == valor3 or valor1 == valor3:\n",
        "  print(\"isosceles\")\n",
        "else:\n",
        "  print(\"escaleno\")\n",
        "\n",
        "\n",
        "\n",
        "\n",
        "\n",
        "\n",
        "\n",
        "\n",
        "\n"
      ],
      "metadata": {
        "colab": {
          "base_uri": "https://localhost:8080/"
        },
        "id": "07NBgDjfTcmU",
        "outputId": "ebc8b66c-ef46-4a07-aa18-cd6db252a43f"
      },
      "execution_count": 3,
      "outputs": [
        {
          "output_type": "stream",
          "name": "stdout",
          "text": [
            "digite o ponto y da cordenada 1 :2\n",
            "digite o ponto x da cordenada 1 :2\n",
            "digite o ponto y da cordenada 2 :2\n",
            "digite o ponto x da cordenada 2 :2\n",
            "digite o ponto y da cordenada 3 :2\n",
            "digite o ponto x da cordenada 3 :2\n",
            "equilatero\n"
          ]
        }
      ]
    },
    {
      "cell_type": "code",
      "source": [
        "#Faça um programa que leia um número inteiro de 5\n",
        "#dígitos e indique se ele é palíndromo\n",
        "#○ Um número palíndromo é aquele que se lido da esquerda\n",
        "#para a direita ou da direita para a esquerda possui o mesmo\n",
        "#valor (ex.: 15451)\n",
        "\n",
        "numero = input(\"digite um numero de 5 digitos: \")\n",
        "if len(numero) < 5 or not numero.isdigit():\n",
        "  print(\"este numero que voce digitou é invalido\")\n",
        "else:\n",
        "  numero_invertido = numero[::-1] # eu usei esse ::-1 justamente pra pegar o numero reverso\n",
        "  if numero == numero_invertido:\n",
        "    print(\"o numero é palindromo\")\n",
        "  else:\n",
        "    print(\"o numero não é palindromo\")\n",
        "\n"
      ],
      "metadata": {
        "colab": {
          "base_uri": "https://localhost:8080/"
        },
        "id": "TX0gLlifiCQu",
        "outputId": "c30195a4-ee70-445a-c9d2-2b2696e10e2e"
      },
      "execution_count": 22,
      "outputs": [
        {
          "output_type": "stream",
          "name": "stdout",
          "text": [
            "digite um numero de 5 digitos: 15451\n",
            "o numero é palindromo\n"
          ]
        }
      ]
    }
  ]
}