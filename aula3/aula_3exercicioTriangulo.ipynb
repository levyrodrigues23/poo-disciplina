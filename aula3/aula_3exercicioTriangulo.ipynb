{
 "cells": [
  {
   "cell_type": "code",
   "execution_count": null,
   "id": "7931546d",
   "metadata": {},
   "outputs": [
    {
     "name": "stdout",
     "output_type": "stream",
     "text": [
      "Tudo bem, tenha um ótimo dia!\n"
     ]
    }
   ],
   "source": [
    "import math\n",
    "\n",
    "while True:\n",
    "\n",
    "  QntdCordenada = input(\"digite A se voce quer adicionar 6 cordenadas para tres pontos, B se voce preferir 8 cordenadas para 4 pontos ou S para sair(A/B/S):\")\n",
    "  if QntdCordenada.lower().strip() == \"a\":\n",
    "    y1 = int(input(\"digite o ponto y da cordenada 1 :\"))\n",
    "    x1 = int(input(\"digite o ponto x da cordenada 1 :\"))\n",
    "    y2 = int(input(\"digite o ponto y da cordenada 2 :\"))\n",
    "    x2 = int(input(\"digite o ponto x da cordenada 2 :\"))\n",
    "    y3 = int(input(\"digite o ponto y da cordenada 3 :\"))\n",
    "    x3 = int(input(\"digite o ponto x da cordenada 3 :\"))\n",
    "\n",
    "    areaModulo = abs((x1 * (y2 - y3) + x2 * (y3 - y1) + x3 * (y1 - y2))) / 2\n",
    "    if areaModulo == 0:\n",
    "      print(\"isso definitivamente não é um triangulo \")\n",
    "      \n",
    "      \n",
    "\n",
    "    lado1 = math.sqrt((x2 - x1)**2 + (y2 - y1)**2)\n",
    "    lado2 = math.sqrt((x3 - x2)**2 + (y3 - y2)**2)\n",
    "    lado3 = math.sqrt((x1 - x3)**2 + (y1 - y3)**2)\n",
    "\n",
    "    if lado1 == lado2 and lado2 == lado3 and lado3 == lado1:\n",
    "          print(\" este é um triangulo equilatero\")\n",
    "    elif lado1 == lado2 or lado2 == lado3 or lado1 == lado3:\n",
    "          print(\"este é um triagulo isosceles\")\n",
    "    elif lado1 != lado2 and lado2 != lado3 and lado1 != lado3:\n",
    "          print(\" este é um trianulo escaleno\")\n",
    "  \n",
    "  if QntdCordenada.lower().strip() == \"b\":\n",
    "    y1 = int(input(\"digite o ponto y da cordenada 1 :\"))\n",
    "    x1 = int(input(\"digite o ponto x da cordenada 1 :\"))\n",
    "    y2 = int(input(\"digite o ponto y da cordenada 2 :\"))\n",
    "    x2 = int(input(\"digite o ponto x da cordenada 2 :\"))\n",
    "    y3 = int(input(\"digite o ponto y da cordenada 3 :\"))\n",
    "    x3 = int(input(\"digite o ponto x da cordenada 3 :\"))\n",
    "    y4 = int(input(\"digite o ponto y da cordenada 4 :\"))\n",
    "    x4 = int(input(\"digite o ponto x da cordenada 4 :\"))\n",
    "    \n",
    "    ladoAB = math.sqrt((x2 - x1)**2 + (y2 - y1)**2)\n",
    "    ladoBC = math.sqrt((x3 - x2)**2 + (y3 - y2)**2)\n",
    "    ladoCD = math.sqrt((x4 - x3)**2 + (y4 - y3)**2)\n",
    "    ladoDA = math.sqrt((x1 - x4)**2 + (y1 - y4)**2)\n",
    "    diagonalAC = math.sqrt((x3 - x1)**2 + (y3 - y1)**2)\n",
    "    diagonalBD = math.sqrt((x4 - x2)**2 + (y4 - y2)**2)\n",
    "    \n",
    "    if ladoAB == ladoBC and ladoBC == ladoCD and ladoCD == ladoDA and ladoDA == ladoAB and ladoAB == ladoCD and diagonalAC == diagonalBD:\n",
    "      print(\"isso é claramente um quadrado.\")\n",
    "    elif ladoAB == ladoCD and ladoBC == ladoDA and diagonalAC == diagonalBD:\n",
    "      print(\"isso é claramente um retângulo.\")\n",
    "    elif ladoAB == ladoBC == ladoCD == ladoDA and diagonalAC != diagonalBD:\n",
    "      print(\"isso é claramente um losango.\")\n",
    "    elif ladoAB == ladoCD and ladoBC == ladoDA and diagonalAC != diagonalBD:\n",
    "      print(\"isso é um paralelogramo\")\n",
    "    elif \n",
    "      \n",
    "      \n",
    "    elif QntdCordenada.lower().strip() == \"s\":\n",
    "      print(\"Tudo bem, tenha um ótimo dia!\")\n",
    "      break\n",
    "    \n",
    "\n",
    "\n",
    "\n",
    "\n",
    "  \n",
    "\n",
    "    \n",
    "    \n",
    "    "
   ]
  }
 ],
 "metadata": {
  "kernelspec": {
   "display_name": "Python 3",
   "language": "python",
   "name": "python3"
  },
  "language_info": {
   "codemirror_mode": {
    "name": "ipython",
    "version": 3
   },
   "file_extension": ".py",
   "mimetype": "text/x-python",
   "name": "python",
   "nbconvert_exporter": "python",
   "pygments_lexer": "ipython3",
   "version": "3.13.7"
  }
 },
 "nbformat": 4,
 "nbformat_minor": 5
}
