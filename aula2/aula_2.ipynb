{
  "nbformat": 4,
  "nbformat_minor": 0,
  "metadata": {
    "colab": {
      "provenance": [],
      "authorship_tag": "ABX9TyOIQrhmp+NgPoRKv5yVnTzL",
      "include_colab_link": true
    },
    "kernelspec": {
      "name": "python3",
      "display_name": "Python 3"
    },
    "language_info": {
      "name": "python"
    }
  },
  "cells": [
    {
      "cell_type": "markdown",
      "metadata": {
        "id": "view-in-github",
        "colab_type": "text"
      },
      "source": [
        "<a href=\"https://colab.research.google.com/github/levyrodrigues23/poo-disciplina/blob/main/aula_2.ipynb\" target=\"_parent\"><img src=\"https://colab.research.google.com/assets/colab-badge.svg\" alt=\"Open In Colab\"/></a>"
      ]
    },
    {
      "cell_type": "code",
      "execution_count": 2,
      "metadata": {
        "colab": {
          "base_uri": "https://localhost:8080/"
        },
        "id": "5NzpBtgrJuoW",
        "outputId": "091beeb6-544c-4a9b-ef5e-dc313f167099"
      },
      "outputs": [
        {
          "output_type": "stream",
          "name": "stdout",
          "text": [
            "-37.6\n"
          ]
        }
      ],
      "source": [
        "x = 512\n",
        "y = 9.2 - (x // 10 - 14 / 5) + 14 * 0.1\n",
        "print(y)"
      ]
    },
    {
      "cell_type": "code",
      "source": [
        "x =10\n",
        "y = -2\n",
        "z = 5\n",
        "w = (x * y > z / 1) or (x / y > z * x and z * y < x)\n",
        "print(w)"
      ],
      "metadata": {
        "colab": {
          "base_uri": "https://localhost:8080/"
        },
        "id": "8dEngl-yMabC",
        "outputId": "6e440584-e854-48b9-ba64-7f49ab6d27a6"
      },
      "execution_count": 9,
      "outputs": [
        {
          "output_type": "stream",
          "name": "stdout",
          "text": [
            "False\n"
          ]
        }
      ]
    },
    {
      "cell_type": "code",
      "source": [
        "numero = int(input(\"entre com um numero: \"))\n",
        "if (numero % 2 == 0):\n",
        "  print(\"o numero é par \")\n",
        "else:\n",
        "  print(\"o numero é impar\")\n"
      ],
      "metadata": {
        "colab": {
          "base_uri": "https://localhost:8080/"
        },
        "id": "QJWu40O8NXW0",
        "outputId": "b974ed1c-0d12-4b3e-b757-1d0fc9ba3089"
      },
      "execution_count": 13,
      "outputs": [
        {
          "output_type": "stream",
          "name": "stdout",
          "text": [
            "entre com um numero: 5\n",
            "o numero é impar\n"
          ]
        }
      ]
    },
    {
      "cell_type": "code",
      "source": [
        "op = input(\"deseja multiplicar ou somar? use S  para somar e M para multiplicar: \")\n",
        "if(op == \"S\"):\n",
        "  num1 = int(input(\"entre com o primeiro numero: \"))\n",
        "  num2 = int(input(\"entre com o segundo numero: \"))\n",
        "  print(num1 + num2)\n",
        "elif(op == \"M\"):\n",
        "  num1 = int(input(\"entre com o primeiro numero: \"))\n",
        "  num2 = int(input(\"entre com o segundo numero: \"))\n",
        "  print(num1 * num2)\n",
        "else:\n",
        "  print(\"opção invalida\")"
      ],
      "metadata": {
        "colab": {
          "base_uri": "https://localhost:8080/"
        },
        "id": "zTl3Uc9NOhVp",
        "outputId": "c0b4e932-5f91-4a93-a734-a8436a114bf2"
      },
      "execution_count": 14,
      "outputs": [
        {
          "output_type": "stream",
          "name": "stdout",
          "text": [
            "deseja multiplicar ou somar? use S  para somar e M para multiplicar: S\n",
            "entre com o primeiro numero: 5\n",
            "entre com o segundo numero: 5\n",
            "10\n"
          ]
        }
      ]
    },
    {
      "cell_type": "code",
      "source": [
        "nome = input(\"digite o nome da pessoa: \")\n",
        "sexo =  input(\"digite o sexo da pessoa: \")\n",
        "if sexo == \"M\":\n",
        "  idade = input('digite a idade da pessoa: ')\n",
        "print(nome, \"tem\", idade, \"anos\")"
      ],
      "metadata": {
        "colab": {
          "base_uri": "https://localhost:8080/"
        },
        "id": "PyBLXbExQRpJ",
        "outputId": "2283474c-6749-4490-8d33-cb855ce9746f"
      },
      "execution_count": 16,
      "outputs": [
        {
          "output_type": "stream",
          "name": "stdout",
          "text": [
            "digite o nome da pessoa: LUIZA\n",
            "digite o sexo da pessoa: F\n",
            "LUIZA tem 18 anos\n"
          ]
        }
      ]
    },
    {
      "cell_type": "code",
      "source": [
        "peso = float(input(\"digite o seu peso: \"))\n",
        "altura = float(input(\"digite a sua altura: \"))\n",
        "imc = peso / (altura * altura)\n",
        "if imc < 18.5:\n",
        "  print(\"abaixo do peso\")\n",
        "elif imc >= 18.6 and imc < 24.9:\n",
        "  print(\"saudável\")\n",
        "elif imc >= 25 and imc < 29.9:\n",
        "  print(\"peso em excesso\")\n",
        "elif imc >= 30 and imc < 34.9:\n",
        "  print(\"obesidade grau 1\")\n",
        "elif imc >= 35 and imc < 39.9:\n",
        "  print(\"obesidade grau 2\")\n",
        "else:\n",
        "  print(\"obesidade grau 3\")"
      ],
      "metadata": {
        "colab": {
          "base_uri": "https://localhost:8080/"
        },
        "id": "OMvguXFJRhbM",
        "outputId": "6e50a14e-a2b5-48c2-c2ec-cf7243ecd953"
      },
      "execution_count": 17,
      "outputs": [
        {
          "output_type": "stream",
          "name": "stdout",
          "text": [
            "digite o seu peso: 71\n",
            "digite a sua altura: 1.82\n",
            "saudável\n"
          ]
        }
      ]
    },
    {
      "cell_type": "code",
      "source": [
        "import math\n",
        "\n",
        "cordenada1y = input(\"digite o ponto y da cordenada 1 :\")\n",
        "cordenada1x = input(\"digite o ponto x da cordenada 1 :\")\n",
        "cordenada2y = input(\"digite o ponto y da cordenada 2 :\")\n",
        "cordenada2x = input(\"digite o ponto x da cordenada 2 :\")\n",
        "cordenada3y = input(\"digite o ponto y da cordenada 3 :\")\n",
        "cordenada3x = input(\"digite o ponto x da cordenada 3 :\")\n",
        "\n",
        "valor = math.sqrt((cordenada2x - cordenada1x)**2 + (cordenada2y - cordenada1y)**2)\n",
        "valor2 = math.sqrt((cordenada3x - cordenada2x)**2 + (cordenada3y - cordenada2y)**2)\n",
        "valor3 = math.sqrt((cordenada3x - cordenada1x)**2 + (cordenada3y - cordenada1y)**2)\n",
        "\n",
        "\n",
        "\n",
        "\n",
        "\n",
        "\n",
        "\n",
        "\n",
        "\n"
      ],
      "metadata": {
        "colab": {
          "base_uri": "https://localhost:8080/"
        },
        "id": "07NBgDjfTcmU",
        "outputId": "7dd09034-63f5-4a66-fdf5-40c19a0990c0"
      },
      "execution_count": 22,
      "outputs": [
        {
          "output_type": "stream",
          "name": "stdout",
          "text": [
            "informe a cordenada 1: 1\n",
            "informe a cordenada 2: 2\n",
            "informe a cordenada 3: 3\n",
            "escaleno \n"
          ]
        }
      ]
    }
  ]
}